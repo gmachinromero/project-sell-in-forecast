{
 "cells": [
  {
   "cell_type": "markdown",
   "id": "c6547d31-dded-4d6f-b7e3-379286cac4cb",
   "metadata": {},
   "source": [
    "# 0. Librerias"
   ]
  },
  {
   "cell_type": "code",
   "execution_count": 97,
   "id": "2dd8623b-c718-42d6-a577-690d49e6aa2c",
   "metadata": {
    "tags": []
   },
   "outputs": [
    {
     "name": "stdout",
     "output_type": "stream",
     "text": [
      "-----\n",
      "category_encoders   2.6.1\n",
      "lightgbm            3.3.5\n",
      "matplotlib          3.7.2\n",
      "numpy               1.23.5\n",
      "pandas              1.5.3\n",
      "seaborn             0.12.2\n",
      "session_info        1.0.0\n",
      "sklearn             1.3.0\n",
      "-----\n",
      "IPython             8.14.0\n",
      "jupyter_client      8.3.0\n",
      "jupyter_core        5.3.1\n",
      "notebook            6.5.4\n",
      "-----\n",
      "Python 3.10.11 (main, May 16 2023, 00:28:57) [GCC 11.2.0]\n",
      "Linux-5.15.0-105-generic-x86_64-with-glibc2.31\n",
      "-----\n",
      "Session information updated at 2024-05-06 17:36\n"
     ]
    }
   ],
   "source": [
    "# Genérica\n",
    "# -----------------------------------------------------------------------------\n",
    "from time import time\n",
    "import session_info\n",
    "\n",
    "\n",
    "# Tratamientos datos\n",
    "# -----------------------------------------------------------------------------\n",
    "import pandas as pd\n",
    "import numpy as np\n",
    "\n",
    "\n",
    "# category encoders\n",
    "# -----------------------------------------------------------------------------\n",
    "from category_encoders import OrdinalEncoder\n",
    "\n",
    "\n",
    "# scikit-learn\n",
    "# -----------------------------------------------------------------------------\n",
    "from sklearn.pipeline import Pipeline\n",
    "from sklearn.model_selection import train_test_split\n",
    "from sklearn.preprocessing import StandardScaler, FunctionTransformer\n",
    "from sklearn.metrics import mean_absolute_error, mean_squared_error, r2_score\n",
    "\n",
    "\n",
    "# LightGBM\n",
    "# -----------------------------------------------------------------------------\n",
    "import lightgbm as lgb\n",
    "\n",
    "\n",
    "# Gráficos\n",
    "# -----------------------------------------------------------------------------\n",
    "import seaborn as sns\n",
    "import matplotlib.pyplot as plt\n",
    "\n",
    "\n",
    "session_info.show(html=False)"
   ]
  },
  {
   "cell_type": "code",
   "execution_count": 98,
   "id": "9000c539-2e9b-4387-b216-6e2c11768b92",
   "metadata": {
    "tags": []
   },
   "outputs": [],
   "source": [
    "# Funciones\n",
    "# -----------------------------------------------------------------------------\n",
    "def optimize_df_dtypes(df):\n",
    "\n",
    "    variables_categoricas = [\n",
    "        'Epoca_Covid',\n",
    "        'Anio',\n",
    "        'Trimestre',\n",
    "        'Mes',\n",
    "        'Negocio',\n",
    "        'Cliente',\n",
    "        'Tipo_Cliente',\n",
    "        'Distribuidor_MSM',\n",
    "        'Codigo_Postal',\n",
    "        'Area_Dist',\n",
    "        'Zona',\n",
    "        'ID_CCAA',\n",
    "        'Comunidad_Autonoma',\n",
    "        'ID_Provincia',\n",
    "        'Provincia',\n",
    "        'Gama',\n",
    "        'Descripcion_Gama',\n",
    "        'Formato_1',\n",
    "        'Formato_2'\n",
    "        ]\n",
    "\n",
    "    for i in df.columns:\n",
    "        if i in variables_categoricas:\n",
    "            df[i] = df[i].astype(\"category\")\n",
    " \n",
    "    fcols = df.select_dtypes('float').columns\n",
    "    icols = df.select_dtypes('integer').columns\n",
    "\n",
    "    df[fcols] = df[fcols].apply(pd.to_numeric, downcast='float')\n",
    "    df[icols] = df[icols].apply(pd.to_numeric, downcast='integer')\n",
    "\n",
    "    return df "
   ]
  },
  {
   "cell_type": "markdown",
   "id": "0a6c65af-768e-48d8-8229-cdb5d81ff497",
   "metadata": {},
   "source": [
    "# 1. Cargar datos"
   ]
  },
  {
   "cell_type": "code",
   "execution_count": 99,
   "id": "e7777b4d-3150-483b-b54c-bb363d831e67",
   "metadata": {
    "tags": []
   },
   "outputs": [
    {
     "name": "stderr",
     "output_type": "stream",
     "text": [
      "/tmp/ipykernel_54689/2722970494.py:5: DtypeWarning: Columns (7) have mixed types. Specify dtype option on import or set low_memory=False.\n",
      "  df = pd.read_csv(path, sep=';')\n"
     ]
    },
    {
     "data": {
      "text/html": [
       "<div>\n",
       "<style scoped>\n",
       "    .dataframe tbody tr th:only-of-type {\n",
       "        vertical-align: middle;\n",
       "    }\n",
       "\n",
       "    .dataframe tbody tr th {\n",
       "        vertical-align: top;\n",
       "    }\n",
       "\n",
       "    .dataframe thead th {\n",
       "        text-align: right;\n",
       "    }\n",
       "</style>\n",
       "<table border=\"1\" class=\"dataframe\">\n",
       "  <thead>\n",
       "    <tr style=\"text-align: right;\">\n",
       "      <th></th>\n",
       "      <th>Fecha</th>\n",
       "      <th>Epoca_Covid</th>\n",
       "      <th>Anio</th>\n",
       "      <th>Mes</th>\n",
       "      <th>Negocio</th>\n",
       "      <th>Cliente</th>\n",
       "      <th>Tipo_Cliente</th>\n",
       "      <th>Codigo_Postal</th>\n",
       "      <th>Area_Dist</th>\n",
       "      <th>ID_Provincia</th>\n",
       "      <th>...</th>\n",
       "      <th>Egatur</th>\n",
       "      <th>Familitur</th>\n",
       "      <th>IPC</th>\n",
       "      <th>IPRI</th>\n",
       "      <th>Temperatura_Media</th>\n",
       "      <th>Precipitacion</th>\n",
       "      <th>Sell_In_1</th>\n",
       "      <th>Sell_In</th>\n",
       "      <th>STRATIO_CREATED_DATE</th>\n",
       "      <th>exec_month</th>\n",
       "    </tr>\n",
       "  </thead>\n",
       "  <tbody>\n",
       "    <tr>\n",
       "      <th>0</th>\n",
       "      <td>201610</td>\n",
       "      <td>pre-covid</td>\n",
       "      <td>2016</td>\n",
       "      <td>10</td>\n",
       "      <td>UNA</td>\n",
       "      <td>534689</td>\n",
       "      <td>DHC</td>\n",
       "      <td>28005</td>\n",
       "      <td>ZZ</td>\n",
       "      <td>99</td>\n",
       "      <td>...</td>\n",
       "      <td>794.02002</td>\n",
       "      <td>0.0</td>\n",
       "      <td>0.9</td>\n",
       "      <td>100.43</td>\n",
       "      <td>16.59</td>\n",
       "      <td>70.349998</td>\n",
       "      <td>5.95</td>\n",
       "      <td>5.95</td>\n",
       "      <td>2024-05-06T13:05:04.878Z</td>\n",
       "      <td>202405</td>\n",
       "    </tr>\n",
       "    <tr>\n",
       "      <th>1</th>\n",
       "      <td>201610</td>\n",
       "      <td>pre-covid</td>\n",
       "      <td>2016</td>\n",
       "      <td>10</td>\n",
       "      <td>UNA</td>\n",
       "      <td>534689</td>\n",
       "      <td>DHC</td>\n",
       "      <td>28005</td>\n",
       "      <td>ZZ</td>\n",
       "      <td>99</td>\n",
       "      <td>...</td>\n",
       "      <td>794.02002</td>\n",
       "      <td>0.0</td>\n",
       "      <td>0.9</td>\n",
       "      <td>100.43</td>\n",
       "      <td>16.59</td>\n",
       "      <td>70.349998</td>\n",
       "      <td>0.00</td>\n",
       "      <td>0.00</td>\n",
       "      <td>2024-05-06T13:05:04.878Z</td>\n",
       "      <td>202405</td>\n",
       "    </tr>\n",
       "    <tr>\n",
       "      <th>2</th>\n",
       "      <td>201610</td>\n",
       "      <td>pre-covid</td>\n",
       "      <td>2016</td>\n",
       "      <td>10</td>\n",
       "      <td>UNA</td>\n",
       "      <td>534689</td>\n",
       "      <td>DHC</td>\n",
       "      <td>28005</td>\n",
       "      <td>ZZ</td>\n",
       "      <td>99</td>\n",
       "      <td>...</td>\n",
       "      <td>794.02002</td>\n",
       "      <td>0.0</td>\n",
       "      <td>0.9</td>\n",
       "      <td>100.43</td>\n",
       "      <td>16.59</td>\n",
       "      <td>70.349998</td>\n",
       "      <td>1.08</td>\n",
       "      <td>1.08</td>\n",
       "      <td>2024-05-06T13:05:04.878Z</td>\n",
       "      <td>202405</td>\n",
       "    </tr>\n",
       "    <tr>\n",
       "      <th>3</th>\n",
       "      <td>201610</td>\n",
       "      <td>pre-covid</td>\n",
       "      <td>2016</td>\n",
       "      <td>10</td>\n",
       "      <td>UNA</td>\n",
       "      <td>534690</td>\n",
       "      <td>DHC</td>\n",
       "      <td>28045</td>\n",
       "      <td>ZZ</td>\n",
       "      <td>99</td>\n",
       "      <td>...</td>\n",
       "      <td>794.02002</td>\n",
       "      <td>0.0</td>\n",
       "      <td>0.9</td>\n",
       "      <td>100.43</td>\n",
       "      <td>16.59</td>\n",
       "      <td>70.349998</td>\n",
       "      <td>5.95</td>\n",
       "      <td>5.95</td>\n",
       "      <td>2024-05-06T13:05:04.878Z</td>\n",
       "      <td>202405</td>\n",
       "    </tr>\n",
       "    <tr>\n",
       "      <th>4</th>\n",
       "      <td>201610</td>\n",
       "      <td>pre-covid</td>\n",
       "      <td>2016</td>\n",
       "      <td>10</td>\n",
       "      <td>UNA</td>\n",
       "      <td>534690</td>\n",
       "      <td>DHC</td>\n",
       "      <td>28045</td>\n",
       "      <td>ZZ</td>\n",
       "      <td>99</td>\n",
       "      <td>...</td>\n",
       "      <td>794.02002</td>\n",
       "      <td>0.0</td>\n",
       "      <td>0.9</td>\n",
       "      <td>100.43</td>\n",
       "      <td>16.59</td>\n",
       "      <td>70.349998</td>\n",
       "      <td>0.96</td>\n",
       "      <td>0.96</td>\n",
       "      <td>2024-05-06T13:05:04.878Z</td>\n",
       "      <td>202405</td>\n",
       "    </tr>\n",
       "  </tbody>\n",
       "</table>\n",
       "<p>5 rows × 39 columns</p>\n",
       "</div>"
      ],
      "text/plain": [
       "    Fecha Epoca_Covid  Anio Mes Negocio Cliente Tipo_Cliente Codigo_Postal  \\\n",
       "0  201610   pre-covid  2016  10     UNA  534689          DHC         28005   \n",
       "1  201610   pre-covid  2016  10     UNA  534689          DHC         28005   \n",
       "2  201610   pre-covid  2016  10     UNA  534689          DHC         28005   \n",
       "3  201610   pre-covid  2016  10     UNA  534690          DHC         28045   \n",
       "4  201610   pre-covid  2016  10     UNA  534690          DHC         28045   \n",
       "\n",
       "  Area_Dist ID_Provincia  ...     Egatur Familitur  IPC    IPRI  \\\n",
       "0        ZZ           99  ...  794.02002       0.0  0.9  100.43   \n",
       "1        ZZ           99  ...  794.02002       0.0  0.9  100.43   \n",
       "2        ZZ           99  ...  794.02002       0.0  0.9  100.43   \n",
       "3        ZZ           99  ...  794.02002       0.0  0.9  100.43   \n",
       "4        ZZ           99  ...  794.02002       0.0  0.9  100.43   \n",
       "\n",
       "  Temperatura_Media Precipitacion Sell_In_1  Sell_In  \\\n",
       "0             16.59     70.349998      5.95     5.95   \n",
       "1             16.59     70.349998      0.00     0.00   \n",
       "2             16.59     70.349998      1.08     1.08   \n",
       "3             16.59     70.349998      5.95     5.95   \n",
       "4             16.59     70.349998      0.96     0.96   \n",
       "\n",
       "       STRATIO_CREATED_DATE  exec_month  \n",
       "0  2024-05-06T13:05:04.878Z      202405  \n",
       "1  2024-05-06T13:05:04.878Z      202405  \n",
       "2  2024-05-06T13:05:04.878Z      202405  \n",
       "3  2024-05-06T13:05:04.878Z      202405  \n",
       "4  2024-05-06T13:05:04.878Z      202405  \n",
       "\n",
       "[5 rows x 39 columns]"
      ]
     },
     "execution_count": 99,
     "metadata": {},
     "output_type": "execute_result"
    }
   ],
   "source": [
    "# Ruta\n",
    "path = './data/si-train-3.csv'\n",
    "\n",
    "# Cargar datos\n",
    "df = pd.read_csv(path, sep=';')\n",
    "\n",
    "# Optimizar tipo dato\n",
    "df = optimize_df_dtypes(df)\n",
    "\n",
    "# Dataset completo (copia seguridad)\n",
    "df_complete = df.copy()\n",
    "\n",
    "# Dataset de validación final\n",
    "filter_val = ((df.Fecha >= 202402) & (df.Fecha <= 202403)) \n",
    "df_val = df[filter_val].reset_index(drop=True)\n",
    "\n",
    "# Dataset de entrenamiento\n",
    "filter_train = (df.Fecha <= 202401)\n",
    "df = df[filter_train].reset_index(drop=True)\n",
    "\n",
    "df.head()"
   ]
  },
  {
   "cell_type": "markdown",
   "id": "cc8815b9-c073-41dd-b742-1a90627a09bf",
   "metadata": {},
   "source": [
    "## 1.1. EDA"
   ]
  },
  {
   "cell_type": "code",
   "execution_count": 100,
   "id": "9fa78e3a-4de9-4388-b68b-9627babea512",
   "metadata": {
    "tags": []
   },
   "outputs": [
    {
     "name": "stdout",
     "output_type": "stream",
     "text": [
      "<class 'pandas.core.frame.DataFrame'>\n",
      "RangeIndex: 2787682 entries, 0 to 2787681\n",
      "Data columns (total 39 columns):\n",
      " #   Column                Dtype   \n",
      "---  ------                -----   \n",
      " 0   Fecha                 int32   \n",
      " 1   Epoca_Covid           category\n",
      " 2   Anio                  category\n",
      " 3   Mes                   category\n",
      " 4   Negocio               category\n",
      " 5   Cliente               category\n",
      " 6   Tipo_Cliente          category\n",
      " 7   Codigo_Postal         category\n",
      " 8   Area_Dist             category\n",
      " 9   ID_Provincia          category\n",
      " 10  Provincia             category\n",
      " 11  ID_CCAA               category\n",
      " 12  Comunidad_Autonoma    category\n",
      " 13  Gama                  category\n",
      " 14  Descripcion_Gama      category\n",
      " 15  Formato_1             category\n",
      " 16  Formato_2             category\n",
      " 17  Num_PdV_CI            float32 \n",
      " 18  Num_PdV_RU            float32 \n",
      " 19  Num_PdV_TU            float32 \n",
      " 20  Impactos_TV           float32 \n",
      " 21  Sell_In_PP            float64 \n",
      " 22  Marketing_Nacional    float64 \n",
      " 23  Trade_Marketing       float64 \n",
      " 24  Marketing_PLV         float64 \n",
      " 25  Dispersion_PdV        float32 \n",
      " 26  Volumen_Solicitado    float64 \n",
      " 27  Tarifa_Eur_Hl         float32 \n",
      " 28  Margen_Distribuidor   float32 \n",
      " 29  Egatur                float32 \n",
      " 30  Familitur             float32 \n",
      " 31  IPC                   float32 \n",
      " 32  IPRI                  float32 \n",
      " 33  Temperatura_Media     float32 \n",
      " 34  Precipitacion         float32 \n",
      " 35  Sell_In_1             float32 \n",
      " 36  Sell_In               float32 \n",
      " 37  STRATIO_CREATED_DATE  object  \n",
      " 38  exec_month            int32   \n",
      "dtypes: category(16), float32(15), float64(5), int32(2), object(1)\n",
      "memory usage: 357.0+ MB\n"
     ]
    }
   ],
   "source": [
    "# DTypes\n",
    "df.info()"
   ]
  },
  {
   "cell_type": "code",
   "execution_count": 101,
   "id": "4cf1a044-dff5-4ba6-8cb4-beed3665574c",
   "metadata": {
    "tags": []
   },
   "outputs": [
    {
     "name": "stdout",
     "output_type": "stream",
     "text": [
      "Fechas totales: 73\n",
      "Fechas entrenamiento: 70\n",
      "Fechas validación: 2\n"
     ]
    }
   ],
   "source": [
    "# Separar datasets\n",
    "dates_complete = df_complete['Fecha'].nunique()\n",
    "dates_train = df['Fecha'].nunique()\n",
    "dates_val = df_val['Fecha'].nunique()\n",
    "\n",
    "print(f\"Fechas totales: {dates_complete}\")\n",
    "print(f\"Fechas entrenamiento: {dates_train}\")\n",
    "print(f\"Fechas validación: {dates_val}\")"
   ]
  },
  {
   "cell_type": "code",
   "execution_count": 102,
   "id": "3522c8e0-de74-4f66-b578-5a392a0a992e",
   "metadata": {
    "tags": []
   },
   "outputs": [
    {
     "data": {
      "text/plain": [
       "[201610,\n",
       " 201611,\n",
       " 201612,\n",
       " 201701,\n",
       " 201702,\n",
       " 201703,\n",
       " 201704,\n",
       " 201705,\n",
       " 201706,\n",
       " 201707,\n",
       " 201708,\n",
       " 201709,\n",
       " 201710,\n",
       " 201711,\n",
       " 201712,\n",
       " 201801,\n",
       " 201802,\n",
       " 201803,\n",
       " 201804,\n",
       " 201805,\n",
       " 201806,\n",
       " 201807,\n",
       " 201808,\n",
       " 201809,\n",
       " 201810,\n",
       " 201811,\n",
       " 201812,\n",
       " 201901,\n",
       " 201902,\n",
       " 201903,\n",
       " 201904,\n",
       " 201905,\n",
       " 201906,\n",
       " 201907,\n",
       " 201908,\n",
       " 201909,\n",
       " 201910,\n",
       " 201911,\n",
       " 201912,\n",
       " 202001,\n",
       " 202002,\n",
       " 202109,\n",
       " 202110,\n",
       " 202111,\n",
       " 202112,\n",
       " 202201,\n",
       " 202202,\n",
       " 202203,\n",
       " 202204,\n",
       " 202205,\n",
       " 202206,\n",
       " 202207,\n",
       " 202208,\n",
       " 202209,\n",
       " 202210,\n",
       " 202211,\n",
       " 202212,\n",
       " 202301,\n",
       " 202302,\n",
       " 202303,\n",
       " 202304,\n",
       " 202305,\n",
       " 202306,\n",
       " 202307,\n",
       " 202308,\n",
       " 202309,\n",
       " 202310,\n",
       " 202311,\n",
       " 202312,\n",
       " 202401]"
      ]
     },
     "execution_count": 102,
     "metadata": {},
     "output_type": "execute_result"
    }
   ],
   "source": [
    "sorted(df['Fecha'].unique())"
   ]
  },
  {
   "cell_type": "code",
   "execution_count": 103,
   "id": "5b0d8330-7316-411b-9b76-b8f740fa3ebf",
   "metadata": {
    "tags": []
   },
   "outputs": [
    {
     "data": {
      "text/plain": [
       "UNE    2136342\n",
       "UNA     651340\n",
       "Name: Negocio, dtype: int64"
      ]
     },
     "execution_count": 103,
     "metadata": {},
     "output_type": "execute_result"
    }
   ],
   "source": [
    "# Conteo por Negocio\n",
    "df['Negocio'].value_counts()"
   ]
  },
  {
   "cell_type": "code",
   "execution_count": 104,
   "id": "2f746ba6-9cda-4af9-8059-58aed9ece16a",
   "metadata": {
    "tags": []
   },
   "outputs": [
    {
     "data": {
      "text/plain": [
       "Negocio  Formato_1    \n",
       "UNE      No retornable    1154638\n",
       "         Retornable        517784\n",
       "UNA      No retornable     509181\n",
       "UNE      Barril            463920\n",
       "UNA      Retornable        142091\n",
       "         Barril                68\n",
       "dtype: int64"
      ]
     },
     "execution_count": 104,
     "metadata": {},
     "output_type": "execute_result"
    }
   ],
   "source": [
    "# Conteo por Formato_1\n",
    "df[['Negocio', 'Formato_1']].value_counts()"
   ]
  },
  {
   "cell_type": "code",
   "execution_count": 105,
   "id": "c4bf0a9c-95d5-4407-b054-8264db97f5f6",
   "metadata": {
    "tags": []
   },
   "outputs": [
    {
     "data": {
      "text/plain": [
       "Negocio  Formato_2       \n",
       "UNE      Tercio SR           555273\n",
       "         Barril              441661\n",
       "         Tercio              367012\n",
       "         Lata                361734\n",
       "UNA      PET 0,50 L          152533\n",
       "UNE      Quinto              150772\n",
       "         Cuarto SR           105419\n",
       "UNA      PET 1,50 L           94536\n",
       "         PET 0,33 L           90994\n",
       "         MEDIO LITRO          77118\n",
       "UNE      Gran Formato         65479\n",
       "UNA      LITRO                51522\n",
       "         TERCIO SR            49081\n",
       "UNE      Medio Litro SR       47225\n",
       "UNA      PET 5,00 L           36446\n",
       "         PET 1,00 L           23285\n",
       "UNE      Duotank              22259\n",
       "UNA      PET 0,75 L           19807\n",
       "UNE      Quinto SR            16342\n",
       "UNA      GRAN FORMATO         13823\n",
       "         Lata                 11450\n",
       "         PET GRAN FORMATO      9765\n",
       "         CR 0,33 L             6454\n",
       "         CUARTO SR             6183\n",
       "         CR 0,75 L             6102\n",
       "UNE      Bag in Box            3166\n",
       "UNA      11 Litros              807\n",
       "         PET 6,00 L             546\n",
       "         PET 3,00 L             507\n",
       "         PET 1,25 L             225\n",
       "         20 Litros               88\n",
       "         Barril                  68\n",
       "dtype: int64"
      ]
     },
     "execution_count": 105,
     "metadata": {},
     "output_type": "execute_result"
    }
   ],
   "source": [
    "# Conteo por Negocio-Formato_2\n",
    "df[['Negocio', 'Formato_2']].value_counts()"
   ]
  },
  {
   "cell_type": "code",
   "execution_count": 106,
   "id": "ab229e3f-06bb-42c7-81da-62d24785b755",
   "metadata": {
    "tags": []
   },
   "outputs": [],
   "source": [
    "# Eliminar columnas genéricas para todos los experimentos\n",
    "df = df.drop(columns=[\n",
    "    'Fecha',\n",
    "    'Anio',\n",
    "    'Cliente',\n",
    "    'Codigo_Postal',\n",
    "    'Provincia',\n",
    "    'Comunidad_Autonoma',\n",
    "    'STRATIO_CREATED_DATE',\n",
    "    'exec_month'\n",
    "])"
   ]
  },
  {
   "cell_type": "code",
   "execution_count": 107,
   "id": "3ade432c-11cb-429d-937f-6985dded12ed",
   "metadata": {
    "tags": []
   },
   "outputs": [
    {
     "name": "stdout",
     "output_type": "stream",
     "text": [
      "Epoca_Covid              0\n",
      "Mes                      0\n",
      "Negocio                  0\n",
      "Tipo_Cliente             0\n",
      "Area_Dist              920\n",
      "ID_Provincia             0\n",
      "ID_CCAA                  0\n",
      "Gama                     0\n",
      "Descripcion_Gama         0\n",
      "Formato_1                0\n",
      "Formato_2                0\n",
      "Num_PdV_CI               0\n",
      "Num_PdV_RU               0\n",
      "Num_PdV_TU               0\n",
      "Impactos_TV              0\n",
      "Sell_In_PP               0\n",
      "Marketing_Nacional       0\n",
      "Trade_Marketing          0\n",
      "Marketing_PLV            0\n",
      "Dispersion_PdV           0\n",
      "Volumen_Solicitado       0\n",
      "Tarifa_Eur_Hl            0\n",
      "Margen_Distribuidor      0\n",
      "Egatur                   0\n",
      "Familitur                0\n",
      "IPC                      0\n",
      "IPRI                     0\n",
      "Temperatura_Media        0\n",
      "Precipitacion            0\n",
      "Sell_In_1                0\n",
      "Sell_In                  0\n",
      "dtype: int64\n"
     ]
    }
   ],
   "source": [
    "# Contar el número de NaN por columna\n",
    "num_nan_por_columna = df.isna().sum()\n",
    "print(num_nan_por_columna)"
   ]
  },
  {
   "cell_type": "code",
   "execution_count": 108,
   "id": "684adf55-c6e3-4c9b-8e58-09c001b78499",
   "metadata": {
    "tags": []
   },
   "outputs": [
    {
     "name": "stdout",
     "output_type": "stream",
     "text": [
      "Variable dependiente: Sell_In\n",
      "------------------------------\n",
      "Variables independientes: ['Epoca_Covid', 'Mes', 'Negocio', 'Tipo_Cliente', 'Area_Dist', 'ID_Provincia', 'ID_CCAA', 'Gama', 'Descripcion_Gama', 'Formato_1', 'Formato_2', 'Num_PdV_CI', 'Num_PdV_RU', 'Num_PdV_TU', 'Impactos_TV', 'Sell_In_PP', 'Marketing_Nacional', 'Trade_Marketing', 'Marketing_PLV', 'Dispersion_PdV', 'Volumen_Solicitado', 'Tarifa_Eur_Hl', 'Margen_Distribuidor', 'Egatur', 'Familitur', 'IPC', 'IPRI', 'Temperatura_Media', 'Precipitacion', 'Sell_In_1']\n",
      "------------------------------\n",
      "Variables categóricas: ['Epoca_Covid', 'Mes', 'Negocio', 'Tipo_Cliente', 'Area_Dist', 'ID_Provincia', 'ID_CCAA', 'Gama', 'Descripcion_Gama', 'Formato_1', 'Formato_2']\n"
     ]
    }
   ],
   "source": [
    "# Variable dependiente\n",
    "target = 'Sell_In'\n",
    "\n",
    "# Variables independientes\n",
    "features = list(df.columns)\n",
    "features.remove(target)\n",
    "\n",
    "# Variables categóricas\n",
    "categorical_features = [col for col in df.columns if df[col].dtype == 'category']\n",
    "\n",
    "# Mostrar\n",
    "print(f'Variable dependiente: {target}')\n",
    "print(30*'-')\n",
    "print(f'Variables independientes: {features}')\n",
    "print(30*'-')\n",
    "print(f'Variables categóricas: {categorical_features}')"
   ]
  },
  {
   "cell_type": "markdown",
   "id": "1a6df656-11bc-418c-9882-7bb19afc0c19",
   "metadata": {},
   "source": [
    "## 1.2. Test funcionales"
   ]
  },
  {
   "cell_type": "code",
   "execution_count": 109,
   "id": "1677a431-505e-40b0-81c6-cb8679387af5",
   "metadata": {
    "tags": []
   },
   "outputs": [],
   "source": [
    "def test_ok():\n",
    "    print(\"\\033[92m\" + 13*\"-\" + \"\\033[0m\")\n",
    "    print(\"\\033[92m\" + \"-- Test OK --\" + \"\\033[0m\")\n",
    "    print(\"\\033[92m\" + 13*\"-\" + \"\\033[0m\")\n",
    "    \n",
    "def test_ko():\n",
    "    print(\"\\033[91m\" + 13*\"-\" + \"\\033[0m\")\n",
    "    print(\"\\033[91m\" + \"-- Test KO --\" + \"\\033[0m\")\n",
    "    print(\"\\033[91m\" + 13*\"-\" + \"\\033[0m\")"
   ]
  },
  {
   "cell_type": "code",
   "execution_count": 112,
   "id": "7bc6a15c-77d2-4ce0-9d2d-6b5aac0283d9",
   "metadata": {
    "tags": []
   },
   "outputs": [
    {
     "name": "stdout",
     "output_type": "stream",
     "text": [
      "\u001b[92m-------------\u001b[0m\n",
      "\u001b[92m-- Test OK --\u001b[0m\n",
      "\u001b[92m-------------\u001b[0m\n"
     ]
    }
   ],
   "source": [
    "# Todos los DHC tienen el área ZZ\n",
    "prueba = (df.Tipo_Cliente == 'DHC') & (df.Area_Dist != 'ZZ')\n",
    "\n",
    "if df[prueba].shape[0] == 0:\n",
    "    test_ok()\n",
    "else:\n",
    "    test_ko()\n",
    "    df[prueba].head(1)"
   ]
  },
  {
   "cell_type": "code",
   "execution_count": null,
   "id": "15df65d7-01f7-49b1-8e46-4056326ba265",
   "metadata": {},
   "outputs": [],
   "source": []
  },
  {
   "cell_type": "code",
   "execution_count": null,
   "id": "e62ce83d-2f1c-4d11-a52d-b72870b17c4b",
   "metadata": {},
   "outputs": [],
   "source": []
  },
  {
   "cell_type": "code",
   "execution_count": null,
   "id": "554f066e-ec21-4fa3-9268-7ec784d03b19",
   "metadata": {},
   "outputs": [],
   "source": []
  },
  {
   "cell_type": "code",
   "execution_count": null,
   "id": "c736703e-931f-4ed9-a415-4761eeeb1c55",
   "metadata": {},
   "outputs": [],
   "source": []
  },
  {
   "cell_type": "code",
   "execution_count": null,
   "id": "668d4b65-2cf1-470e-bebb-8f55c11cfdc6",
   "metadata": {},
   "outputs": [],
   "source": []
  },
  {
   "cell_type": "code",
   "execution_count": null,
   "id": "c2cb168d-d5de-4682-9ab3-57cd27f325d6",
   "metadata": {},
   "outputs": [],
   "source": []
  },
  {
   "cell_type": "code",
   "execution_count": null,
   "id": "a132c382-4180-4563-8f58-07ec4fabfb26",
   "metadata": {},
   "outputs": [],
   "source": []
  },
  {
   "cell_type": "markdown",
   "id": "da2970eb-e4df-432d-bdb2-ebe3356c904c",
   "metadata": {},
   "source": [
    "# 2. MLflow"
   ]
  },
  {
   "cell_type": "code",
   "execution_count": null,
   "id": "db0a05d2-2dd0-40fa-aed3-fa03ed93d3af",
   "metadata": {},
   "outputs": [],
   "source": [
    "# Importar MLflow\n",
    "import mlflow\n",
    "from mlflow.models import ModelSignature\n",
    "from mlflow.types.schema import Schema, ColSpec"
   ]
  },
  {
   "cell_type": "code",
   "execution_count": null,
   "id": "e4a46d02-aa7a-41d6-bf77-4c75a30f1bdc",
   "metadata": {},
   "outputs": [],
   "source": [
    "# Ver ruta actual desde donde se va a levantar el MLflow server\n",
    "!pwd"
   ]
  },
  {
   "cell_type": "code",
   "execution_count": null,
   "id": "ec69f50e-de1f-4a06-96ce-9d716462cd32",
   "metadata": {},
   "outputs": [],
   "source": [
    "# Iniciar un servidor de MLflow con alguno de los dos comandos siguientes en una terminal\n",
    "# $ mlflow server --host 127.0.0.1 --port 5000\n",
    "# $ mlflow ui"
   ]
  },
  {
   "cell_type": "code",
   "execution_count": null,
   "id": "8434cc76-debf-4dee-adaa-7e97db3c64e9",
   "metadata": {},
   "outputs": [],
   "source": [
    "# Apuntar el notebook al servidor MLflow levantado en la celda anterior\n",
    "mlflow.set_tracking_uri(\"http://127.0.0.1:5000\")"
   ]
  },
  {
   "cell_type": "code",
   "execution_count": null,
   "id": "d9c445f5-3645-420d-807f-79fd4691e1fa",
   "metadata": {},
   "outputs": [],
   "source": [
    "# Crear un experimento\n",
    "# --------------------------------------------------\n",
    "\n",
    "# Nombre\n",
    "experiment_name = \"MSM_Sell_In_Modelos_Formato\"\n",
    "\n",
    "# Descripción\n",
    "experiment_description = (\n",
    "    \"Proyecto de comparación de modelos de Sell In en función del Formato 2.\"\n",
    ")\n",
    "\n",
    "# Etiquetas del experimento\n",
    "experiment_tags = {\n",
    "    \"project_name\": \"Modelos-Sell-In\",\n",
    "    \"problem_type\": \"Regresión\",\n",
    "    \"client\": \"MSM\",\n",
    "    \"mlflow.note.content\": experiment_description,\n",
    "}\n",
    "\n",
    "# Crear el experimento\n",
    "produce_sell_in_experiment = mlflow.create_experiment(\n",
    "    name=experiment_name,\n",
    "    tags=experiment_tags\n",
    ")\n",
    "\n",
    "# Activar el experimento\n",
    "mlflow.set_experiment(experiment_name)"
   ]
  },
  {
   "cell_type": "code",
   "execution_count": null,
   "id": "63bad31e-5c9b-4d3c-b956-ac463397ef63",
   "metadata": {},
   "outputs": [],
   "source": []
  },
  {
   "cell_type": "code",
   "execution_count": null,
   "id": "ff1bd0bd-abd3-4d6d-ae61-96a012d594c3",
   "metadata": {},
   "outputs": [],
   "source": []
  },
  {
   "cell_type": "markdown",
   "id": "9d0143ef-0e4f-4ef7-9c5c-d191610d4943",
   "metadata": {},
   "source": [
    "# 3. Modelos"
   ]
  },
  {
   "cell_type": "markdown",
   "id": "5bc86e8a-8ccf-4a4b-8bfc-fbcda44de4c9",
   "metadata": {},
   "source": [
    "## 3.1. LightGBM - Modelo Global\n",
    "\n",
    "El alcance de este experimento es:\n",
    "\n",
    "**Modelo Global:**\n",
    "- Negocio: UNE + UNA\n",
    "- Formatos: Todos"
   ]
  },
  {
   "cell_type": "markdown",
   "id": "a3b5150f-f243-48c3-b477-e29a29690a0a",
   "metadata": {},
   "source": [
    "### 3.1.1. Entrenamiento"
   ]
  },
  {
   "cell_type": "code",
   "execution_count": null,
   "id": "2457a9b6-710f-4e07-ba9d-a98dd24c8659",
   "metadata": {},
   "outputs": [],
   "source": [
    "# Medir tiempo\n",
    "tiempo_inicial = time()\n",
    "\n",
    "\n",
    "# Variables de ejecución MLflow\n",
    "# ------------------------------------------------------------------------------------\n",
    "experiment_name = 'MSM_Sell_In_Modelos_Formato'\n",
    "run_name = 'Modelo_LightGBM_Experiment_Global'\n",
    "model_name = 'lightgbm-model-global'\n",
    "\n",
    "\n",
    "# Seed\n",
    "# ------------------------------------------------------------------------------------\n",
    "seed = 123\n",
    "\n",
    "\n",
    "# Dataset de test y entrenamiento\n",
    "# ------------------------------------------------------------------------------------\n",
    "# Copia del dataset\n",
    "df_exp = df.copy()\n",
    "\n",
    "# Filtrar por el Formato_1: Global\n",
    "# ...\n",
    "# ...\n",
    "\n",
    "# Variable dependiente\n",
    "target = 'Sell_In'\n",
    "\n",
    "# Variables independientes\n",
    "features = list(df_exp.columns)\n",
    "features.remove(target)\n",
    "\n",
    "# Variables categóricas\n",
    "categorical_features = [col for col in df_exp.columns if df_exp[col].dtype == 'category']\n",
    "\n",
    "# Dataset de test y entrenamiento\n",
    "train, test = train_test_split(df_exp, train_size=0.95, test_size=0.05, random_state=seed)\n",
    "\n",
    "\n",
    "\n",
    "# MLflow\n",
    "# ------------------------------------------------------------------------------------\n",
    "# Activar el experimento\n",
    "mlflow.set_experiment(experiment_name)\n",
    "\n",
    "# Lanzar ejecución de MLflow\n",
    "with mlflow.start_run(run_name=run_name) as run:\n",
    "    \n",
    "    # UUID del experimento\n",
    "    experiment_id = run.info.experiment_id\n",
    "    \n",
    "    # UUID de la ejecución\n",
    "    run_id = run.info.run_uuid\n",
    "    \n",
    "    # Instanciar OrdinalEncoder\n",
    "    encoder = OrdinalEncoder(\n",
    "        cols=categorical_features,\n",
    "        handle_unknown=\"ignore\",\n",
    "        return_df=True\n",
    "    )\n",
    "\n",
    "    \n",
    "    # Parámetros\n",
    "    params = {\n",
    "        \"boosting_type\": \"gbdt\",\n",
    "        \"learning_rate\": 0.1,\n",
    "        \"n_estimators\": 1000,\n",
    "        \"max_depth\": 10,\n",
    "        \"num_leaves\": 350,\n",
    "        \"min_child_samples\": 20,\n",
    "        \"bagging_fraction\": 1.0,\n",
    "        \"bagging_freq\": 0,\n",
    "        \"feature_fraction\": 0.8,\n",
    "        \"reg_sqrt\": True,\n",
    "        \"feature_pre_filter\": False,\n",
    "        \"random_state\": seed,\n",
    "        \"n_jobs\": -1\n",
    "    }\n",
    "    \n",
    "\n",
    "    # Instanciar LGBMRegressor\n",
    "    mlgb = lgb.LGBMRegressor(**params)\n",
    "\n",
    "    \n",
    "    # Pipeline: Encoder + Regresor\n",
    "    model_pipeline = Pipeline([\n",
    "        (\"encoder\", encoder),\n",
    "        (\"mlgb\", mlgb)\n",
    "    ])\n",
    "    \n",
    "    \n",
    "    # Entrenar modelo\n",
    "    model = model_pipeline.fit(train[features], train[target])\n",
    "    \n",
    "    \n",
    "    # Cálculo de métricas\n",
    "    train_y_real = train[target]\n",
    "    train_y_pred = model.predict(train[features])\n",
    "\n",
    "    test_y_real = test[target]\n",
    "    test_y_pred = model.predict(test[features])\n",
    "\n",
    "    metric_r2_train = round(r2_score(train_y_real, train_y_pred), 3)\n",
    "    metric_r2_test = round(r2_score(test_y_real, test_y_pred), 3)\n",
    "\n",
    "    metric_r2_adj_train = round(1-(1-metric_r2_train)*(len(test)-1)/(len(test)-len(features)-1), 3)\n",
    "    metric_r2_adj_test = round(1-(1-metric_r2_test)*(len(test)-1)/(len(test)-len(features)-1), 3)\n",
    "\n",
    "    metric_train_mae = round(mean_absolute_error(train_y_real, train_y_pred), 3)\n",
    "    metric_test_mae = round(mean_absolute_error(test_y_real, test_y_pred), 3)\n",
    "\n",
    "    metric_train_rmse = round(mean_squared_error(train_y_real, train_y_pred, squared=False), 3)\n",
    "    metric_test_rmse = round(mean_squared_error(test_y_real, test_y_pred, squared=False), 3)\n",
    "\n",
    "    metric_train_score = round(1.00 - (metric_train_mae / train_y_real.mean()), 3)\n",
    "    metric_test_score = round(1.00 - (metric_test_mae / test_y_real.mean()), 3)\n",
    "    \n",
    "    \n",
    "    # Genere un diccionario con las métricas\n",
    "    metrics = {\n",
    "        \"r2_train\": metric_r2_train,\n",
    "        \"r2_test\": metric_r2_test,\n",
    "        \"r2_adj_train\": metric_r2_adj_train,\n",
    "        \"r2_adj_test\": metric_r2_adj_test,\n",
    "        \"mae_train\": metric_train_mae,\n",
    "        \"mae_test\": metric_test_mae,\n",
    "        \"rmse_train\": metric_train_rmse,\n",
    "        \"rmse_test\": metric_test_rmse,\n",
    "        \"score_train\": metric_train_score,\n",
    "        \"score_test\": metric_test_score\n",
    "    }\n",
    "    \n",
    "    \n",
    "    # Loggar parámetros\n",
    "    mlflow.log_params(params)\n",
    "    \n",
    "    # Logar métricas\n",
    "    mlflow.log_metrics(metrics)\n",
    "    \n",
    "    # Schema input/output del modelo\n",
    "    input_schema = Schema([\n",
    "        ColSpec(\"string\", \"Epoca_Covid\"),\n",
    "        ColSpec(\"string\", \"Mes\"),\n",
    "        ColSpec(\"string\", \"Negocio\"),\n",
    "        ColSpec(\"string\", \"Tipo_Cliente\"),\n",
    "        ColSpec(\"string\", \"Area_Dist\"),\n",
    "        ColSpec(\"string\", \"ID_Provincia\"),\n",
    "        ColSpec(\"string\", \"Gama\"),\n",
    "        ColSpec(\"string\", \"Formato_1\"),\n",
    "        ColSpec(\"string\", \"Formato_2\"),\n",
    "        ColSpec(\"double\", \"Num_PdV_CI\"),\n",
    "        ColSpec(\"double\", \"Num_PdV_RU\"),\n",
    "        ColSpec(\"double\", \"Num_PdV_TU\"),\n",
    "        ColSpec(\"double\", \"Impactos_TV\"),\n",
    "        ColSpec(\"double\", \"Sell_In_PP\"),\n",
    "        ColSpec(\"double\", \"Marketing_Nacional\"),\n",
    "        ColSpec(\"double\", \"Trade_Marketing\"),\n",
    "        ColSpec(\"double\", \"Marketing_PLV\"),\n",
    "        ColSpec(\"double\", \"Dispersion_PdV\"),\n",
    "        ColSpec(\"double\", \"Volumen_Solicitado\"),\n",
    "        ColSpec(\"double\", \"Tarifa_Eur_Hl\"),\n",
    "        ColSpec(\"double\", \"Margen_Distribuidor\"),\n",
    "        ColSpec(\"double\", \"Egatur\"),\n",
    "        ColSpec(\"double\", \"Familitur\"),\n",
    "        ColSpec(\"double\", \"IPC\"),\n",
    "        ColSpec(\"double\", \"IPRI\"),\n",
    "        ColSpec(\"double\", \"Temperatura_Media\"),\n",
    "        ColSpec(\"double\", \"Precipitacion\"),\n",
    "        ColSpec(\"double\", \"Sell_In_1\")\n",
    "    ])\n",
    "    \n",
    "    output_schema = Schema([ColSpec(\"double\", \"prediction\")])\n",
    "    \n",
    "    signature = ModelSignature(inputs=input_schema, outputs=output_schema)\n",
    "\n",
    "    # Log modelo entrenado\n",
    "    mlflow.sklearn.log_model(model, model_name, signature=signature)\n",
    "\n",
    "    \n",
    "    \n",
    "    \n",
    "# Medir tiempo\n",
    "tiempo_final = time()\n",
    "tiempo_ejecucion = tiempo_final - tiempo_inicial\n",
    "\n",
    "print('')\n",
    "print(f\"El tiempo de ejecución es de {tiempo_ejecucion/60} minutos\")\n",
    "\n",
    "\n",
    "# Info de la ejecución\n",
    "print(\"\")\n",
    "print(f\"Modelo loggado en el experimento: {experiment_id} --> {experiment_name}\")\n",
    "print(f\"Modelo loggado en la ejecución: {run_id} --> {run_name}\")\n",
    "print(f\"Nombre del modelo: {model_name}\")\n",
    "print(f\"Modelo URI: 'runs:/{run_id}/{model_name}'\")"
   ]
  },
  {
   "cell_type": "code",
   "execution_count": null,
   "id": "81cd12a8-f81b-406a-86d0-6a4c015b2d08",
   "metadata": {},
   "outputs": [],
   "source": [
    "logged_model_lgb_global = f'runs:/{run_id}/{model_name}'\n",
    "logged_model_lgb_global"
   ]
  },
  {
   "cell_type": "markdown",
   "id": "48d43ab6-b0fc-4792-baae-6afb9720ada9",
   "metadata": {},
   "source": [
    "### 3.1.2. Predicciones dataset de validación"
   ]
  },
  {
   "cell_type": "code",
   "execution_count": null,
   "id": "3b21bec9-c34a-48a5-bce1-1e49abc4299d",
   "metadata": {},
   "outputs": [],
   "source": [
    "# Dataset para comprobar predicciones\n",
    "df_val.head()"
   ]
  },
  {
   "cell_type": "code",
   "execution_count": null,
   "id": "35516e64-1afe-45c0-8426-876a45d296d0",
   "metadata": {},
   "outputs": [],
   "source": [
    "df_val.info()"
   ]
  },
  {
   "cell_type": "code",
   "execution_count": null,
   "id": "b3d92538-7124-4a1b-a98f-652d1528aa1f",
   "metadata": {},
   "outputs": [],
   "source": [
    "# Castear las columnas de tipo category a object\n",
    "categorical_columns = df_val.select_dtypes(include=['category']).columns\n",
    "df_val[categorical_columns] = df_val[categorical_columns].astype('object')"
   ]
  },
  {
   "cell_type": "code",
   "execution_count": null,
   "id": "ab523235-e4b3-40c8-8886-f1e34b753806",
   "metadata": {},
   "outputs": [],
   "source": [
    "# Lista de variables dependientes\n",
    "print(features)"
   ]
  },
  {
   "cell_type": "code",
   "execution_count": null,
   "id": "2f54624e-7208-40e9-b9b1-5727df6126f9",
   "metadata": {},
   "outputs": [],
   "source": [
    "# Cargar modelo como PyFuncModel.\n",
    "# logged_model_lgb_global = 'runs:/35f3e23b74f14166a98322282a483129/lightgbm-model-global'\n",
    "print(logged_model_lgb_global)\n",
    "loaded_model_lgb = mlflow.pyfunc.load_model(logged_model_lgb_global)\n",
    "\n",
    "# Prediccion\n",
    "predictions = pd.Series(loaded_model_lgb.predict(df_val[features]), name='Sell_In_Pred')"
   ]
  },
  {
   "cell_type": "code",
   "execution_count": null,
   "id": "804001ac-3621-4b04-a2f5-e82e00675ff2",
   "metadata": {},
   "outputs": [],
   "source": [
    "# Columnas del análisis\n",
    "df_analysis = df_val[['Area_Dist', 'Formato_1', 'Formato_2', 'Sell_In']]\n",
    "\n",
    "# Concatenar dataset anterior con las predicciones\n",
    "df_analysis = pd.concat([df_analysis, predictions], axis=1)\n",
    "\n",
    "df_analysis.head()"
   ]
  },
  {
   "cell_type": "code",
   "execution_count": null,
   "id": "11517bf4-4b61-47d2-9d6d-e33f48539e4f",
   "metadata": {},
   "outputs": [],
   "source": [
    "# Agregar el dato por Fecha, Area y Formato\n",
    "df_analysis = df_analysis.groupby(['Area_Dist', 'Formato_1', 'Formato_2'], as_index=False) \\\n",
    "                         .sum(['Sell_In', 'Sell_In_Pred'])\n",
    "\n",
    "# Calcular el error en %\n",
    "df_analysis['Desviacion'] = round((df_analysis.Sell_In_Pred - df_analysis.Sell_In)*100 / df_analysis.Sell_In, 2)\n",
    "\n",
    "df_analysis"
   ]
  },
  {
   "cell_type": "code",
   "execution_count": null,
   "id": "fe70b252-f29e-47f0-a7a5-16875715780f",
   "metadata": {},
   "outputs": [],
   "source": [
    "# Pivot\n",
    "tabla_desviaciones = df_analysis.pivot_table(index='Area_Dist', columns=['Formato_1', 'Formato_2'], values='Desviacion', aggfunc='mean')\n",
    "\n",
    "tabla_desviaciones"
   ]
  },
  {
   "cell_type": "code",
   "execution_count": null,
   "id": "10a0b18e-def3-4e67-8194-41ca9e1e2d9c",
   "metadata": {},
   "outputs": [],
   "source": [
    "# Cambiar el tamaño del mapa de calor\n",
    "plt.subplots(figsize=(10, 4))  # Ancho x Alto\n",
    "\n",
    "# Mapa de calor\n",
    "sns.heatmap(\n",
    "    tabla_desviaciones,\n",
    "    annot=True,\n",
    "    fmt=\".2f\",\n",
    "    cmap='RdYlGn',\n",
    "    vmin=-100,\n",
    "    vmax=100,\n",
    "    linewidth=.5\n",
    ")\n",
    "\n",
    "# Mostrar el mapa de calor\n",
    "plt.title('Mapa de Calor de Desviaciones')\n",
    "plt.xlabel('Formato')\n",
    "plt.ylabel('Area')\n",
    "\n",
    "plt.show()"
   ]
  },
  {
   "cell_type": "code",
   "execution_count": null,
   "id": "01a6489a-0d8d-4103-a055-f4b73dc523c5",
   "metadata": {},
   "outputs": [],
   "source": []
  },
  {
   "cell_type": "code",
   "execution_count": null,
   "id": "dada0a16-e3e2-4b31-bafc-4989ace10ef8",
   "metadata": {},
   "outputs": [],
   "source": []
  }
 ],
 "metadata": {
  "kernelspec": {
   "display_name": "kernel_msm_sell_in_prediction",
   "language": "python",
   "name": "kernel_msm_sell_in_prediction"
  },
  "language_info": {
   "codemirror_mode": {
    "name": "ipython",
    "version": 3
   },
   "file_extension": ".py",
   "mimetype": "text/x-python",
   "name": "python",
   "nbconvert_exporter": "python",
   "pygments_lexer": "ipython3",
   "version": "3.10.11"
  }
 },
 "nbformat": 4,
 "nbformat_minor": 5
}
